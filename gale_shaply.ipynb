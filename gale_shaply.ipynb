{
 "cells": [
  {
   "cell_type": "code",
   "execution_count": 7,
   "metadata": {},
   "outputs": [],
   "source": [
    "from collections import deque\n"
   ]
  },
  {
   "cell_type": "code",
   "execution_count": 8,
   "metadata": {},
   "outputs": [],
   "source": [
    "def gale_shapley(preferencias_homens, preferencias_mulheres, n):\n",
    "    \"\"\"\n",
    "    Implementa o algoritmo de Gale-Shapley para resolver o problema de casamento estável.\n",
    "    \n",
    "    Args:\n",
    "    preferencias_homens (list): Lista de preferências dos homens.\n",
    "    preferencias_mulheres (list): Lista de preferências das mulheres.\n",
    "    n (int): Número de homens e mulheres.\n",
    "    \n",
    "    Returns:\n",
    "    list: Lista onde o índice representa o homem e o valor representa a mulher com quem ele está casado.\n",
    "    \"\"\"\n",
    "    homens_solteiros = deque(range(n))\n",
    "    conjuge_homem = [None] * n\n",
    "    conjuge_mulher = [None] * n\n",
    "    proxima_escolha_homem = [0] * n\n",
    "\n",
    "    rankings_mulheres = [{homem: rank for rank, homem in enumerate(prefs)} for prefs in preferencias_mulheres]\n",
    "\n",
    "    while homens_solteiros:\n",
    "        ele = homens_solteiros[0]\n",
    "        ela = preferencias_homens[ele][proxima_escolha_homem[ele]]\n",
    "        marido_atual = conjuge_mulher[ela]\n",
    "\n",
    "        if marido_atual is None:\n",
    "            engajar(ele, ela, conjuge_homem, conjuge_mulher, homens_solteiros)\n",
    "        else:\n",
    "            if prefere_novo_homem(rankings_mulheres[ela], ele, marido_atual):\n",
    "                desengajar(marido_atual, conjuge_homem, homens_solteiros)\n",
    "                engajar(ele, ela, conjuge_homem, conjuge_mulher, homens_solteiros)\n",
    "\n",
    "        proxima_escolha_homem[ele] += 1\n",
    "\n",
    "    return conjuge_homem"
   ]
  },
  {
   "cell_type": "code",
   "execution_count": 9,
   "metadata": {},
   "outputs": [],
   "source": [
    "def desengajar(homem, conjuge_homem, homens_solteiros):\n",
    "    \"\"\"Desengaja um homem.\"\"\"\n",
    "    conjuge_homem[homem] = None\n",
    "    homens_solteiros.append(homem)"
   ]
  },
  {
   "cell_type": "code",
   "execution_count": 10,
   "metadata": {},
   "outputs": [],
   "source": [
    "def engajar(homem, mulher, conjuge_homem, conjuge_mulher, homens_solteiros):\n",
    "    \"\"\"Engaja um homem e uma mulher.\"\"\"\n",
    "    conjuge_homem[homem] = mulher\n",
    "    conjuge_mulher[mulher] = homem\n",
    "    homens_solteiros.popleft()"
   ]
  },
  {
   "cell_type": "code",
   "execution_count": 11,
   "metadata": {},
   "outputs": [],
   "source": [
    "\n",
    "def prefere_novo_homem(ranking_mulher, novo_homem, marido_atual):\n",
    "    \"\"\"Verifica se a mulher prefere o novo pretendente ao seu marido atual.\"\"\"\n",
    "    return ranking_mulher[novo_homem] < ranking_mulher[marido_atual]"
   ]
  },
  {
   "cell_type": "markdown",
   "metadata": {},
   "source": [
    "# Exemplo de uso"
   ]
  },
  {
   "cell_type": "code",
   "execution_count": 12,
   "metadata": {},
   "outputs": [
    {
     "name": "stdout",
     "output_type": "stream",
     "text": [
      "O homem 0 está com a mulher 2\n",
      "O homem 1 está com a mulher 0\n",
      "O homem 2 está com a mulher 1\n"
     ]
    }
   ],
   "source": [
    "preferencias_homens = [\n",
    "    [2, 0, 1],\n",
    "    [0, 1, 2],\n",
    "    [1, 2, 0],\n",
    "]\n",
    "preferencias_mulheres = [\n",
    "    [1, 2, 0],\n",
    "    [0, 1, 2],\n",
    "    [2, 0, 1],\n",
    "]\n",
    "n = 3\n",
    "conjuge_homem = gale_shapley(preferencias_homens, preferencias_mulheres, n)\n",
    "for homem, mulher in enumerate(conjuge_homem):\n",
    "    print(f'O homem {homem} está com a mulher {mulher}')"
   ]
  }
 ],
 "metadata": {
  "kernelspec": {
   "display_name": "Python 3",
   "language": "python",
   "name": "python3"
  },
  "language_info": {
   "codemirror_mode": {
    "name": "ipython",
    "version": 3
   },
   "file_extension": ".py",
   "mimetype": "text/x-python",
   "name": "python",
   "nbconvert_exporter": "python",
   "pygments_lexer": "ipython3",
   "version": "3.11.9"
  }
 },
 "nbformat": 4,
 "nbformat_minor": 2
}
